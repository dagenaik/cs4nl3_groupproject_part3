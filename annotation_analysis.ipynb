{
 "cells": [
  {
   "cell_type": "code",
   "execution_count": 10,
   "metadata": {},
   "outputs": [],
   "source": [
    "# imports\n",
    "import pandas as pd\n",
    "import krippendorff\n",
    "import numpy as np\n",
    "import sqlite3\n",
    "import matplotlib.pyplot as plt"
   ]
  },
  {
   "cell_type": "code",
   "execution_count": null,
   "metadata": {},
   "outputs": [],
   "source": [
    "# combine data\n",
    "\n",
    "db_files = ['1.db', '2.db', '3.db', '4.db', '6.db']\n",
    "excel_file = '5.xlsx'\n",
    "csv_file = '7.csv'\n",
    "\n",
    "dataframes = []\n",
    "\n",
    "for db_file in db_files:\n",
    "    annotator_id = int(db_file.split('.')[0])\n",
    "    \n",
    "    conn = sqlite3.connect(db_file)\n",
    "    tables = pd.read_sql_query(\"SELECT name FROM sqlite_master WHERE type='table';\", conn)\n",
    "    \n",
    "    if tables.empty:\n",
    "        print(f\"No tables in {db_file}, skipping.\")\n",
    "        conn.close()\n",
    "        continue\n",
    "    \n",
    "    table_name = tables['name'][0]\n",
    "    df = pd.read_sql_query(f\"SELECT * FROM '{table_name}';\", conn)\n",
    "    conn.close()\n",
    "    \n",
    "    if 'userId' in df.columns:\n",
    "        df.drop(columns=['userId'], inplace=True)\n",
    "\n",
    "    df['annotator_id'] = annotator_id = int(db_file.split('.')[0])\n",
    "    \n",
    "    dataframes.append(df)\n",
    "\n",
    "excel_df = pd.read_excel(excel_file)\n",
    "excel_df['annotator_id'] = 5\n",
    "\n",
    "csv_df = pd.read_csv(csv_file)\n",
    "csv_df['annotator_id'] = 7\n",
    "\n",
    "combined_df = pd.concat(dataframes + [excel_df, csv_df], ignore_index=True)\n",
    "combined_df = combined_df.iloc[:, 0:3]\n",
    "combined_df.to_csv('combined_data.csv', index=False)"
   ]
  },
  {
   "cell_type": "code",
   "execution_count": null,
   "metadata": {},
   "outputs": [],
   "source": [
    "# clean data\n",
    "combined_df = pd.read_csv('combined_data.csv')\n",
    "print(f\"Rows: {combined_df.shape[0]}, Columns: {combined_df.shape[1]}\")\n",
    "\n",
    "missing_label_count = combined_df['tweet'].isna().sum()\n",
    "print(f\"Number of elements with no value in 'label': {missing_label_count}\")\n",
    "\n",
    "clean_df = combined_df.dropna(subset=['label'])\n",
    "clean_df = clean_df[clean_df['label'].astype(str).str.strip() != '']\n",
    "clean_df.to_csv('cleaned_combined.csv', index=False)\n",
    "print(f\"Removed {len(combined_df) - len(clean_df)} rows without labels.\")"
   ]
  },
  {
   "cell_type": "code",
   "execution_count": null,
   "metadata": {},
   "outputs": [
    {
     "name": "stdout",
     "output_type": "stream",
     "text": [
      "Found 76 duplicate annotations.\n",
      "Krippendorff's Alpha: 0.387\n"
     ]
    }
   ],
   "source": [
    "# krippendorff's alpha\n",
    "\n",
    "df = pd.read_csv('cleaned_combined.csv')\n",
    "duplicates = df[df.duplicated(subset=['tweet', 'annotator_id'], keep=False)]\n",
    "print(f\"Found {len(duplicates)} duplicate annotations.\")\n",
    "\n",
    "df_no_duplicates = df.drop_duplicates(subset=['tweet', 'annotator_id'], keep='first')\n",
    "pivot_table = df_no_duplicates.pivot(index='tweet', columns='annotator_id', values='label')\n",
    "annotation_data = pivot_table.to_numpy().T\n",
    "alpha = krippendorff.alpha(reliability_data=annotation_data, level_of_measurement='nominal')\n",
    "print(f\"Krippendorff's Alpha: {alpha:.3f}\")"
   ]
  },
  {
   "cell_type": "code",
   "execution_count": 12,
   "metadata": {},
   "outputs": [
    {
     "data": {
      "image/png": "[encoded data removed]",
      "text/plain": [
       "<Figure size 800x600 with 1 Axes>"
      ]
     },
     "metadata": {},
     "output_type": "display_data"
    }
   ],
   "source": [
    "# ground truth\n",
    "df = pd.read_csv('cleaned_combined.csv')\n",
    "majority_labels = df.groupby('tweet')['label'].agg(lambda x: x.mode().iloc[0]).reset_index()\n",
    "majority_labels.columns = ['tweet', 'ground_truth_label']\n",
    "majority_labels.to_csv('ground_truth_labels.csv', index=False)\n",
    "\n",
    "# ground truth visualization\n",
    "labels_df = pd.read_csv('ground_truth_labels.csv')\n",
    "label_counts = labels_df['ground_truth_label'].value_counts().sort_index()\n",
    "label_counts.plot(kind='bar', figsize=(8,6), rot=0)\n",
    "\n",
    "plt.title('Distribution of Ground Truth Labels')\n",
    "plt.xlabel('Label')\n",
    "plt.ylabel('Count')\n",
    "plt.grid(axis='y')\n",
    "\n",
    "plt.tight_layout()\n",
    "plt.savefig('label_distribution.png')\n",
    "plt.show()"
   ]
  }
 ],
 "metadata": {
  "kernelspec": {
   "display_name": "Python 3",
   "language": "python",
   "name": "python3"
  },
  "language_info": {
   "codemirror_mode": {
    "name": "ipython",
    "version": 3
   },
   "file_extension": ".py",
   "mimetype": "text/x-python",
   "name": "python",
   "nbconvert_exporter": "python",
   "pygments_lexer": "ipython3",
   "version": "3.11.0"
  }
 },
 "nbformat": 4,
 "nbformat_minor": 2
}
